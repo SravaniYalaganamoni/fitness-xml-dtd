{
 "cells": [
  {
   "cell_type": "code",
   "execution_count": null,
   "metadata": {},
   "outputs": [],
   "source": [
    "from lxml import etree\n",
    "\n",
    "def validate(xml_path, dtd_path):\n",
    "    with open(dtd_path, 'rb') as f:\n",
    "        dtd = etree.DTD(f)\n",
    "    doc = etree.parse(xml_path)\n",
    "    ok = dtd.validate(doc)\n",
    "    print(f\"Validating {xml_path} ->\", \"PASS\" if ok else \"FAIL\")\n",
    "    if not ok:\n",
    "        for e in dtd.error_log:\n",
    "            print(f\"Line {e.line}: {e.message}\")\n",
    "\n",
    "validate('sample.xml', 'fitness.dtd')\n",
    "validate('broken.xml', 'fitness.dtd')"
   ]
  }
 ],
 "metadata": {
  "kernelspec": {
   "display_name": "Python 3",
   "language": "python",
   "name": "python3"
  },
  "language_info": {
   "name": "python",
   "version": "3.x"
  }
 },
 "nbformat": 4,
 "nbformat_minor": 5
}
